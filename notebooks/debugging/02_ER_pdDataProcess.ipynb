{
 "cells": [
  {
   "cell_type": "code",
   "execution_count": null,
   "metadata": {},
   "outputs": [],
   "source": [
    "import logging\n",
    "logging.captureWarnings(True)\n",
    "\n",
    "\n",
    "from deepsensor.data import DataProcessor\n",
    "import cartopy.crs as ccrs\n",
    "import pandas as pd\n",
    "import xarray as xr\n",
    "import numpy as np"
   ]
  },
  {
   "cell_type": "code",
   "execution_count": null,
   "metadata": {},
   "outputs": [],
   "source": [
    "data_processor = DataProcessor(x1_name=\"lat\", x2_name=\"lon\")\n",
    "buoy = pd.read_csv('Buoy_Density.csv')"
   ]
  },
  {
   "cell_type": "markdown",
   "metadata": {},
   "source": [
    "Cell below gives an error \"ValueError: Indexes need to start with ['time', 'lat', 'lon'] or ['lat', 'lon'] but are [None]\"\n",
    "\\This error uses df.index.names"
   ]
  },
  {
   "cell_type": "code",
   "execution_count": null,
   "metadata": {},
   "outputs": [],
   "source": [
    "buoy = pd.read_csv('Buoy_Density.csv')\n",
    "\n",
    "buoy_ds = data_processor(buoy)"
   ]
  },
  {
   "cell_type": "markdown",
   "metadata": {},
   "source": [
    "Next approach is to transpose the df so that lat lon are the indices, but this is again successful\n"
   ]
  },
  {
   "cell_type": "code",
   "execution_count": null,
   "metadata": {},
   "outputs": [],
   "source": [
    "buoyt = buoy.T\n",
    "buoy_ds = data_processor(buoyt)\n"
   ]
  },
  {
   "cell_type": "markdown",
   "metadata": {},
   "source": [
    "I then tried to use a MultiIndex object to get .names = ['lat', 'lon'], but then I get an indexing error \"IndexError: only integers, slices (`:`), ellipsis (`...`), numpy.newaxis (`None`) and integer or boolean arrays are valid indices\" , which comes from trying to index using 'lat' or 'lon'"
   ]
  },
  {
   "cell_type": "code",
   "execution_count": null,
   "metadata": {},
   "outputs": [],
   "source": [
    "mibuoy = pd.MultiIndex.from_frame(buoy.T)\n",
    "buoy_ds = data_processor(buoyt)\n"
   ]
  }
 ],
 "metadata": {
  "language_info": {
   "name": "python"
  }
 },
 "nbformat": 4,
 "nbformat_minor": 2
}
