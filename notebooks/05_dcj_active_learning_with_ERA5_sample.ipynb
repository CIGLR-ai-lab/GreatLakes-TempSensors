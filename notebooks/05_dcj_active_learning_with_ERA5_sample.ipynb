{
  "nbformat": 4,
  "nbformat_minor": 0,
  "metadata": {
    "colab": {
      "provenance": [],
      "gpuType": "T4",
      "authorship_tag": "ABX9TyM+uHulBUFWBtvxXev7vh4i",
      "include_colab_link": true
    },
    "kernelspec": {
      "name": "python3",
      "display_name": "Python 3"
    },
    "language_info": {
      "name": "python"
    },
    "accelerator": "GPU"
  },
  "cells": [
    {
      "cell_type": "markdown",
      "metadata": {
        "id": "view-in-github",
        "colab_type": "text"
      },
      "source": [
        "<a href=\"https://colab.research.google.com/github/CIGLR-ai-lab/GreatLakes-TempSensors/blob/main/notebooks/05_dcj_active_learning_with_ERA5_sample.ipynb\" target=\"_parent\"><img src=\"https://colab.research.google.com/assets/colab-badge.svg\" alt=\"Open In Colab\"/></a>"
      ]
    },
    {
      "cell_type": "code",
      "source": [
        "!pip install cartopy deepsensor rioxarray"
      ],
      "metadata": {
        "id": "AKqfDpEKj2Oj"
      },
      "execution_count": null,
      "outputs": []
    },
    {
      "cell_type": "code",
      "source": [
        "import logging\n",
        "logging.captureWarnings(True)\n",
        "\n",
        "import deepsensor.torch\n",
        "from deepsensor.model import ConvNP\n",
        "from deepsensor.data import DataProcessor, TaskLoader, construct_circ_time_ds\n",
        "from deepsensor.data.sources import get_era5_reanalysis_data, get_earthenv_auxiliary_data, get_gldas_land_mask\n",
        "from deepsensor.train import set_gpu_default_device\n",
        "\n",
        "import cartopy.crs as ccrs\n",
        "import pandas as pd\n",
        "import xarray as xr"
      ],
      "metadata": {
        "id": "Opu0PQbej7Wq"
      },
      "execution_count": null,
      "outputs": []
    },
    {
      "cell_type": "code",
      "source": [
        "# Training/data config\n",
        "data_range = (\"2011-01-01\", \"2011-12-31\")\n",
        "train_range = (\"2011-01-01\", \"2011-08-31\")\n",
        "val_range = (\"2011-09-01\", \"2011-12-31\")\n",
        "date_subsample_factor = 2\n",
        "station_var_IDs = [\"TAVG\"]\n",
        "extent = \"north_america\"\n",
        "era5_var_IDs = [\"2m_temperature\"]\n",
        "lowres_auxiliary_var_IDs = [\"elevation\"]\n",
        "cache_dir = \".datacache\"\n",
        "deepsensor_folder = \"deepsensor_config\"\n",
        "model_folder = \"model\"\n",
        "verbose_download = True"
      ],
      "metadata": {
        "id": "JX3ycIErj-vl"
      },
      "execution_count": null,
      "outputs": []
    },
    {
      "cell_type": "code",
      "execution_count": null,
      "metadata": {
        "id": "bbjxB9d9jVhV"
      },
      "outputs": [],
      "source": [
        "# Mounting Google Drive in Google Colab\n",
        "from google.colab import drive\n",
        "drive.mount('/content/gdrive')"
      ]
    },
    {
      "cell_type": "code",
      "source": [
        "fpath = '/content/gdrive/MyDrive/CIGLR Summer Fellows/DeepSensor-2024/era5-input-sample/era5_north_america_daily_2011.nc'"
      ],
      "metadata": {
        "id": "GzyKFgh1jeIv"
      },
      "execution_count": null,
      "outputs": []
    },
    {
      "cell_type": "code",
      "source": [
        "era5_raw_ds = xr.open_dataset(fpath)"
      ],
      "metadata": {
        "id": "GC35RVdUkpl-"
      },
      "execution_count": null,
      "outputs": []
    },
    {
      "cell_type": "code",
      "source": [
        "print(era5_raw_ds)"
      ],
      "metadata": {
        "colab": {
          "base_uri": "https://localhost:8080/"
        },
        "id": "86JNRg6xkrhM",
        "outputId": "c5d3a905-8f1b-4ea5-bbef-15d4ec853500"
      },
      "execution_count": 44,
      "outputs": [
        {
          "output_type": "stream",
          "name": "stderr",
          "text": [
            "WARNING:py.warnings:/usr/local/lib/python3.10/dist-packages/ipykernel/ipkernel.py:283: DeprecationWarning: `should_run_async` will not call `transform_cell` automatically in the future. Please pass the result to `transformed_cell` argument and any exception that happen during thetransform in `preprocessing_exc_tuple` in IPython 7.17 and above.\n",
            "  and should_run_async(code)\n",
            "\n"
          ]
        },
        {
          "output_type": "stream",
          "name": "stdout",
          "text": [
            "<xarray.Dataset>\n",
            "Dimensions:    (longitude: 641, latitude: 313, time: 365)\n",
            "Coordinates:\n",
            "  * longitude  (longitude) float32 -180.0 -179.8 -179.5 ... -20.5 -20.25 -20.0\n",
            "  * latitude   (latitude) float32 85.0 84.75 84.5 84.25 ... 7.75 7.5 7.25 7.0\n",
            "  * time       (time) datetime64[ns] 2011-01-01 2011-01-02 ... 2011-12-31\n",
            "Data variables:\n",
            "    u10        (time, latitude, longitude) float32 ...\n",
            "    v10        (time, latitude, longitude) float32 ...\n",
            "    t2m        (time, latitude, longitude) float32 ...\n",
            "Attributes:\n",
            "    Conventions:  CF-1.6\n",
            "    history:      2024-07-17 21:03:37 GMT by grib_to_netcdf-2.28.1: /opt/ecmw...\n"
          ]
        }
      ]
    },
    {
      "cell_type": "code",
      "source": [
        "lowres_aux_raw_ds = get_earthenv_auxiliary_data(lowres_auxiliary_var_IDs, extent, \"100KM\", cache=True, cache_dir=cache_dir, verbose=verbose_download)\n",
        "land_mask_raw_ds = get_gldas_land_mask(extent, cache=True, cache_dir=cache_dir, verbose=verbose_download)\n",
        "\n",
        "# Rename dimensions to 'lat' and 'lon'\n",
        "era5_renamed_ds = era5_raw_ds.rename({'latitude': 'lat', 'longitude': 'lon'})\n",
        "era5_renamed_ds = era5_renamed_ds.drop(['u10','v10'])\n",
        "\n",
        "data_processor = DataProcessor(x1_name=\"lat\", x2_name=\"lon\", verbose=True)\n",
        "era5_ds = data_processor(era5_renamed_ds)\n",
        "lowres_aux_ds, land_mask_ds = data_processor([lowres_aux_raw_ds, land_mask_raw_ds], method=\"min_max\")\n",
        "\n",
        "dates = pd.date_range(era5_ds.time.values.min(), era5_ds.time.values.max(), freq=\"D\")\n",
        "doy_ds = construct_circ_time_ds(dates, freq=\"D\")\n",
        "lowres_aux_ds[\"cos_D\"] = doy_ds[\"cos_D\"]\n",
        "lowres_aux_ds[\"sin_D\"] = doy_ds[\"sin_D\"]"
      ],
      "metadata": {
        "colab": {
          "base_uri": "https://localhost:8080/"
        },
        "id": "DuscQc9UkwQL",
        "outputId": "cfd91910-f736-4864-8312-17ff595eb91a"
      },
      "execution_count": 45,
      "outputs": [
        {
          "output_type": "stream",
          "name": "stderr",
          "text": [
            "WARNING:py.warnings:/usr/local/lib/python3.10/dist-packages/ipykernel/ipkernel.py:283: DeprecationWarning: `should_run_async` will not call `transform_cell` automatically in the future. Please pass the result to `transformed_cell` argument and any exception that happen during thetransform in `preprocessing_exc_tuple` in IPython 7.17 and above.\n",
            "  and should_run_async(code)\n",
            "\n"
          ]
        },
        {
          "output_type": "stream",
          "name": "stdout",
          "text": [
            "Normalisation params for t2m not computed. Computing now... Done. t2m mean_std params={'mean': 281.0874938964844, 'std': 17.581817626953125}\n",
            "Inferring x1_map=(7.0, 167.0) and x2_map=(-180.0, -20.0) from data min/max\n",
            "Normalisation params for elevation not computed. Computing now... Done. elevation min_max params={'min': -6.24999984211172e-06, 'max': 3228.330810546875}\n",
            "Normalisation params for GLDAS_mask not computed. Computing now... Done. GLDAS_mask min_max params={'min': 0.0, 'max': 1.0}\n"
          ]
        }
      ]
    },
    {
      "cell_type": "code",
      "source": [
        "print(era5_ds)"
      ],
      "metadata": {
        "colab": {
          "base_uri": "https://localhost:8080/"
        },
        "id": "dNHIcg5wi1CS",
        "outputId": "4e697312-ca58-4835-f6c2-96f6d625eb91"
      },
      "execution_count": 46,
      "outputs": [
        {
          "output_type": "stream",
          "name": "stderr",
          "text": [
            "WARNING:py.warnings:/usr/local/lib/python3.10/dist-packages/ipykernel/ipkernel.py:283: DeprecationWarning: `should_run_async` will not call `transform_cell` automatically in the future. Please pass the result to `transformed_cell` argument and any exception that happen during thetransform in `preprocessing_exc_tuple` in IPython 7.17 and above.\n",
            "  and should_run_async(code)\n",
            "\n"
          ]
        },
        {
          "output_type": "stream",
          "name": "stdout",
          "text": [
            "<xarray.Dataset>\n",
            "Dimensions:  (x2: 641, x1: 313, time: 365)\n",
            "Coordinates:\n",
            "  * x2       (x2) float32 0.0 0.001563 0.003125 0.004688 ... 0.9969 0.9984 1.0\n",
            "  * x1       (x1) float32 0.4875 0.4859 0.4844 0.4828 ... 0.003125 0.001563 0.0\n",
            "  * time     (time) datetime64[ns] 2011-01-01 2011-01-02 ... 2011-12-31\n",
            "Data variables:\n",
            "    t2m      (time, x1, x2) float32 -2.176 -2.169 -2.162 ... 1.054 1.046 1.047\n",
            "Attributes:\n",
            "    Conventions:  CF-1.6\n",
            "    history:      2024-07-17 21:03:37 GMT by grib_to_netcdf-2.28.1: /opt/ecmw...\n"
          ]
        }
      ]
    },
    {
      "cell_type": "code",
      "source": [
        "print(lowres_aux_ds)"
      ],
      "metadata": {
        "colab": {
          "base_uri": "https://localhost:8080/"
        },
        "id": "7JwMTe3yi4OK",
        "outputId": "05a5d671-7278-456e-a473-1dc8f002440d"
      },
      "execution_count": 47,
      "outputs": [
        {
          "output_type": "stream",
          "name": "stderr",
          "text": [
            "WARNING:py.warnings:/usr/local/lib/python3.10/dist-packages/ipykernel/ipkernel.py:283: DeprecationWarning: `should_run_async` will not call `transform_cell` automatically in the future. Please pass the result to `transformed_cell` argument and any exception that happen during thetransform in `preprocessing_exc_tuple` in IPython 7.17 and above.\n",
            "  and should_run_async(code)\n",
            "\n"
          ]
        },
        {
          "output_type": "stream",
          "name": "stdout",
          "text": [
            "<xarray.Dataset>\n",
            "Dimensions:    (x2: 120, x1: 72, time: 365)\n",
            "Coordinates:\n",
            "  * x2         (x2) float64 0.1276 0.1328 0.138 0.1432 ... 0.737 0.7422 0.7474\n",
            "  * x1         (x1) float64 0.4214 0.4161 0.4109 ... 0.06198 0.05677 0.05156\n",
            "  * time       (time) datetime64[ns] 2011-01-01 2011-01-02 ... 2011-12-31\n",
            "Data variables:\n",
            "    elevation  (x1, x2) float32 -1.0 -1.0 -1.0 -1.0 ... -1.0 -1.0 -0.9795 -1.0\n",
            "    cos_D      (time) float64 0.9999 0.9994 0.9987 0.9976 ... 0.9993 0.9998 1.0\n",
            "    sin_D      (time) float64 0.0172 0.0344 0.05158 ... -0.0215 -0.004301\n"
          ]
        }
      ]
    },
    {
      "cell_type": "code",
      "source": [
        "print(land_mask_ds)"
      ],
      "metadata": {
        "colab": {
          "base_uri": "https://localhost:8080/"
        },
        "id": "Udmd_4UojAde",
        "outputId": "10b780a5-8415-4794-b175-6e5283e57499"
      },
      "execution_count": 48,
      "outputs": [
        {
          "output_type": "stream",
          "name": "stderr",
          "text": [
            "WARNING:py.warnings:/usr/local/lib/python3.10/dist-packages/ipykernel/ipkernel.py:283: DeprecationWarning: `should_run_async` will not call `transform_cell` automatically in the future. Please pass the result to `transformed_cell` argument and any exception that happen during thetransform in `preprocessing_exc_tuple` in IPython 7.17 and above.\n",
            "  and should_run_async(code)\n",
            "\n"
          ]
        },
        {
          "output_type": "stream",
          "name": "stdout",
          "text": [
            "<xarray.DataArray 'GLDAS_mask' (x1: 240, x2: 400)>\n",
            "array([[-1., -1., -1., ..., -1., -1., -1.],\n",
            "       [-1., -1., -1., ..., -1., -1., -1.],\n",
            "       [-1., -1., -1., ..., -1., -1., -1.],\n",
            "       ...,\n",
            "       [-1., -1., -1., ..., -1., -1., -1.],\n",
            "       [-1., -1., -1., ..., -1., -1., -1.],\n",
            "       [-1., -1., -1., ..., -1., -1., -1.]], dtype=float32)\n",
            "Coordinates:\n",
            "  * x2       (x2) float32 0.1258 0.1273 0.1289 0.1305 ... 0.7461 0.7477 0.7492\n",
            "  * x1       (x1) float32 0.4242 0.4227 0.4211 ... 0.05391 0.05234 0.05078\n"
          ]
        }
      ]
    },
    {
      "cell_type": "code",
      "source": [
        "task_loader = TaskLoader(\n",
        "    context=[era5_ds, land_mask_ds, lowres_aux_ds],\n",
        "    target=era5_ds,\n",
        ")\n",
        "task_loader.load_dask()\n",
        "print(task_loader)"
      ],
      "metadata": {
        "colab": {
          "base_uri": "https://localhost:8080/"
        },
        "id": "DeA-KlOCldCJ",
        "outputId": "eb1b204a-481e-4bf7-eff4-cbdf5f7ce336"
      },
      "execution_count": 49,
      "outputs": [
        {
          "output_type": "stream",
          "name": "stderr",
          "text": [
            "WARNING:py.warnings:/usr/local/lib/python3.10/dist-packages/ipykernel/ipkernel.py:283: DeprecationWarning: `should_run_async` will not call `transform_cell` automatically in the future. Please pass the result to `transformed_cell` argument and any exception that happen during thetransform in `preprocessing_exc_tuple` in IPython 7.17 and above.\n",
            "  and should_run_async(code)\n",
            "\n"
          ]
        },
        {
          "output_type": "stream",
          "name": "stdout",
          "text": [
            "TaskLoader(3 context sets, 1 target sets)\n",
            "Context variable IDs: (('t2m',), ('GLDAS_mask',), ('elevation', 'cos_D', 'sin_D'))\n",
            "Target variable IDs: (('t2m',),)\n"
          ]
        }
      ]
    },
    {
      "cell_type": "code",
      "source": [
        "set_gpu_default_device()"
      ],
      "metadata": {
        "collapsed": true,
        "id": "hhLl2LXOnTyE"
      },
      "execution_count": null,
      "outputs": []
    },
    {
      "cell_type": "code",
      "source": [
        "# Load model\n",
        "model = ConvNP(data_processor, task_loader)"
      ],
      "metadata": {
        "colab": {
          "base_uri": "https://localhost:8080/"
        },
        "id": "S7Ur5oKVoi41",
        "outputId": "615840b8-562e-4302-a960-2d62818917b0"
      },
      "execution_count": 51,
      "outputs": [
        {
          "output_type": "stream",
          "name": "stderr",
          "text": [
            "WARNING:py.warnings:/usr/local/lib/python3.10/dist-packages/ipykernel/ipkernel.py:283: DeprecationWarning: `should_run_async` will not call `transform_cell` automatically in the future. Please pass the result to `transformed_cell` argument and any exception that happen during thetransform in `preprocessing_exc_tuple` in IPython 7.17 and above.\n",
            "  and should_run_async(code)\n",
            "\n"
          ]
        },
        {
          "output_type": "stream",
          "name": "stdout",
          "text": [
            "dim_yc inferred from TaskLoader: (1, 1, 3)\n",
            "dim_yt inferred from TaskLoader: 1\n",
            "dim_aux_t inferred from TaskLoader: 0\n",
            "internal_density inferred from TaskLoader: 639\n",
            "encoder_scales inferred from TaskLoader: [0.0007812500116415322, 0.0007812500116415322, 0.0026041665114462376]\n",
            "decoder_scale inferred from TaskLoader: 0.001564945226917058\n"
          ]
        }
      ]
    },
    {
      "cell_type": "code",
      "source": [
        "from deepsensor.active_learning import GreedyAlgorithm\n",
        "\n",
        "alg = GreedyAlgorithm(\n",
        "    model,\n",
        "    X_s=era5_renamed_ds,\n",
        "    X_t=era5_renamed_ds,\n",
        "    X_s_mask=land_mask_raw_ds,\n",
        "    X_t_mask=land_mask_raw_ds,\n",
        "    context_set_idx=0,\n",
        "    target_set_idx=0,\n",
        "    N_new_context=3,\n",
        "    progress_bar=True,\n",
        ")"
      ],
      "metadata": {
        "id": "ywBfypH2omz0"
      },
      "execution_count": null,
      "outputs": []
    },
    {
      "cell_type": "code",
      "source": [
        "from deepsensor.active_learning.acquisition_fns import Stddev\n",
        "\n",
        "acquisition_fn = Stddev(model, context_set_idx=0, target_set_idx=0)"
      ],
      "metadata": {
        "id": "HG9sEqjxolLc"
      },
      "execution_count": null,
      "outputs": []
    },
    {
      "cell_type": "code",
      "source": [
        "val_dates = pd.date_range(val_range[0], val_range[1])[::date_subsample_factor]\n",
        "placement_dates = val_dates\n",
        "placement_tasks = task_loader(placement_dates, context_sampling=[100, \"all\", \"all\"], seed_override=0)\n",
        "\n",
        "X_new_df, acquisition_fn_ds = alg(acquisition_fn, placement_tasks)"
      ],
      "metadata": {
        "colab": {
          "base_uri": "https://localhost:8080/"
        },
        "id": "tlSDGSXVorxR",
        "outputId": "6356c97a-9f95-46b2-9237-d96f871b2a73"
      },
      "execution_count": 54,
      "outputs": [
        {
          "output_type": "stream",
          "name": "stderr",
          "text": [
            "WARNING:py.warnings:/usr/local/lib/python3.10/dist-packages/ipykernel/ipkernel.py:283: DeprecationWarning: `should_run_async` will not call `transform_cell` automatically in the future. Please pass the result to `transformed_cell` argument and any exception that happen during thetransform in `preprocessing_exc_tuple` in IPython 7.17 and above.\n",
            "  and should_run_async(code)\n",
            "\n",
            "100%|██████████| 183/183 [00:26<00:00,  6.78it/s]\n"
          ]
        }
      ]
    },
    {
      "cell_type": "code",
      "source": [
        "X_new_df"
      ],
      "metadata": {
        "colab": {
          "base_uri": "https://localhost:8080/",
          "height": 247
        },
        "id": "fhnf-E6KosYW",
        "outputId": "88c7849f-a689-4a49-f023-dd55a61412e5"
      },
      "execution_count": 55,
      "outputs": [
        {
          "output_type": "stream",
          "name": "stderr",
          "text": [
            "WARNING:py.warnings:/usr/local/lib/python3.10/dist-packages/ipykernel/ipkernel.py:283: DeprecationWarning: `should_run_async` will not call `transform_cell` automatically in the future. Please pass the result to `transformed_cell` argument and any exception that happen during thetransform in `preprocessing_exc_tuple` in IPython 7.17 and above.\n",
            "  and should_run_async(code)\n",
            "\n"
          ]
        },
        {
          "output_type": "execute_result",
          "data": {
            "text/plain": [
              "            lat     lon\n",
              "iteration              \n",
              "0          38.5 -105.75\n",
              "1          38.0 -106.00\n",
              "2          37.5 -106.25"
            ],
            "text/html": [
              "\n",
              "  <div id=\"df-294208ae-5079-4aea-a32b-f3dc16100f85\" class=\"colab-df-container\">\n",
              "    <div>\n",
              "<style scoped>\n",
              "    .dataframe tbody tr th:only-of-type {\n",
              "        vertical-align: middle;\n",
              "    }\n",
              "\n",
              "    .dataframe tbody tr th {\n",
              "        vertical-align: top;\n",
              "    }\n",
              "\n",
              "    .dataframe thead th {\n",
              "        text-align: right;\n",
              "    }\n",
              "</style>\n",
              "<table border=\"1\" class=\"dataframe\">\n",
              "  <thead>\n",
              "    <tr style=\"text-align: right;\">\n",
              "      <th></th>\n",
              "      <th>lat</th>\n",
              "      <th>lon</th>\n",
              "    </tr>\n",
              "    <tr>\n",
              "      <th>iteration</th>\n",
              "      <th></th>\n",
              "      <th></th>\n",
              "    </tr>\n",
              "  </thead>\n",
              "  <tbody>\n",
              "    <tr>\n",
              "      <th>0</th>\n",
              "      <td>38.5</td>\n",
              "      <td>-105.75</td>\n",
              "    </tr>\n",
              "    <tr>\n",
              "      <th>1</th>\n",
              "      <td>38.0</td>\n",
              "      <td>-106.00</td>\n",
              "    </tr>\n",
              "    <tr>\n",
              "      <th>2</th>\n",
              "      <td>37.5</td>\n",
              "      <td>-106.25</td>\n",
              "    </tr>\n",
              "  </tbody>\n",
              "</table>\n",
              "</div>\n",
              "    <div class=\"colab-df-buttons\">\n",
              "\n",
              "  <div class=\"colab-df-container\">\n",
              "    <button class=\"colab-df-convert\" onclick=\"convertToInteractive('df-294208ae-5079-4aea-a32b-f3dc16100f85')\"\n",
              "            title=\"Convert this dataframe to an interactive table.\"\n",
              "            style=\"display:none;\">\n",
              "\n",
              "  <svg xmlns=\"http://www.w3.org/2000/svg\" height=\"24px\" viewBox=\"0 -960 960 960\">\n",
              "    <path d=\"M120-120v-720h720v720H120Zm60-500h600v-160H180v160Zm220 220h160v-160H400v160Zm0 220h160v-160H400v160ZM180-400h160v-160H180v160Zm440 0h160v-160H620v160ZM180-180h160v-160H180v160Zm440 0h160v-160H620v160Z\"/>\n",
              "  </svg>\n",
              "    </button>\n",
              "\n",
              "  <style>\n",
              "    .colab-df-container {\n",
              "      display:flex;\n",
              "      gap: 12px;\n",
              "    }\n",
              "\n",
              "    .colab-df-convert {\n",
              "      background-color: #E8F0FE;\n",
              "      border: none;\n",
              "      border-radius: 50%;\n",
              "      cursor: pointer;\n",
              "      display: none;\n",
              "      fill: #1967D2;\n",
              "      height: 32px;\n",
              "      padding: 0 0 0 0;\n",
              "      width: 32px;\n",
              "    }\n",
              "\n",
              "    .colab-df-convert:hover {\n",
              "      background-color: #E2EBFA;\n",
              "      box-shadow: 0px 1px 2px rgba(60, 64, 67, 0.3), 0px 1px 3px 1px rgba(60, 64, 67, 0.15);\n",
              "      fill: #174EA6;\n",
              "    }\n",
              "\n",
              "    .colab-df-buttons div {\n",
              "      margin-bottom: 4px;\n",
              "    }\n",
              "\n",
              "    [theme=dark] .colab-df-convert {\n",
              "      background-color: #3B4455;\n",
              "      fill: #D2E3FC;\n",
              "    }\n",
              "\n",
              "    [theme=dark] .colab-df-convert:hover {\n",
              "      background-color: #434B5C;\n",
              "      box-shadow: 0px 1px 3px 1px rgba(0, 0, 0, 0.15);\n",
              "      filter: drop-shadow(0px 1px 2px rgba(0, 0, 0, 0.3));\n",
              "      fill: #FFFFFF;\n",
              "    }\n",
              "  </style>\n",
              "\n",
              "    <script>\n",
              "      const buttonEl =\n",
              "        document.querySelector('#df-294208ae-5079-4aea-a32b-f3dc16100f85 button.colab-df-convert');\n",
              "      buttonEl.style.display =\n",
              "        google.colab.kernel.accessAllowed ? 'block' : 'none';\n",
              "\n",
              "      async function convertToInteractive(key) {\n",
              "        const element = document.querySelector('#df-294208ae-5079-4aea-a32b-f3dc16100f85');\n",
              "        const dataTable =\n",
              "          await google.colab.kernel.invokeFunction('convertToInteractive',\n",
              "                                                    [key], {});\n",
              "        if (!dataTable) return;\n",
              "\n",
              "        const docLinkHtml = 'Like what you see? Visit the ' +\n",
              "          '<a target=\"_blank\" href=https://colab.research.google.com/notebooks/data_table.ipynb>data table notebook</a>'\n",
              "          + ' to learn more about interactive tables.';\n",
              "        element.innerHTML = '';\n",
              "        dataTable['output_type'] = 'display_data';\n",
              "        await google.colab.output.renderOutput(dataTable, element);\n",
              "        const docLink = document.createElement('div');\n",
              "        docLink.innerHTML = docLinkHtml;\n",
              "        element.appendChild(docLink);\n",
              "      }\n",
              "    </script>\n",
              "  </div>\n",
              "\n",
              "\n",
              "<div id=\"df-9f57cf8d-69d3-469c-843b-8f25a1288dca\">\n",
              "  <button class=\"colab-df-quickchart\" onclick=\"quickchart('df-9f57cf8d-69d3-469c-843b-8f25a1288dca')\"\n",
              "            title=\"Suggest charts\"\n",
              "            style=\"display:none;\">\n",
              "\n",
              "<svg xmlns=\"http://www.w3.org/2000/svg\" height=\"24px\"viewBox=\"0 0 24 24\"\n",
              "     width=\"24px\">\n",
              "    <g>\n",
              "        <path d=\"M19 3H5c-1.1 0-2 .9-2 2v14c0 1.1.9 2 2 2h14c1.1 0 2-.9 2-2V5c0-1.1-.9-2-2-2zM9 17H7v-7h2v7zm4 0h-2V7h2v10zm4 0h-2v-4h2v4z\"/>\n",
              "    </g>\n",
              "</svg>\n",
              "  </button>\n",
              "\n",
              "<style>\n",
              "  .colab-df-quickchart {\n",
              "      --bg-color: #E8F0FE;\n",
              "      --fill-color: #1967D2;\n",
              "      --hover-bg-color: #E2EBFA;\n",
              "      --hover-fill-color: #174EA6;\n",
              "      --disabled-fill-color: #AAA;\n",
              "      --disabled-bg-color: #DDD;\n",
              "  }\n",
              "\n",
              "  [theme=dark] .colab-df-quickchart {\n",
              "      --bg-color: #3B4455;\n",
              "      --fill-color: #D2E3FC;\n",
              "      --hover-bg-color: #434B5C;\n",
              "      --hover-fill-color: #FFFFFF;\n",
              "      --disabled-bg-color: #3B4455;\n",
              "      --disabled-fill-color: #666;\n",
              "  }\n",
              "\n",
              "  .colab-df-quickchart {\n",
              "    background-color: var(--bg-color);\n",
              "    border: none;\n",
              "    border-radius: 50%;\n",
              "    cursor: pointer;\n",
              "    display: none;\n",
              "    fill: var(--fill-color);\n",
              "    height: 32px;\n",
              "    padding: 0;\n",
              "    width: 32px;\n",
              "  }\n",
              "\n",
              "  .colab-df-quickchart:hover {\n",
              "    background-color: var(--hover-bg-color);\n",
              "    box-shadow: 0 1px 2px rgba(60, 64, 67, 0.3), 0 1px 3px 1px rgba(60, 64, 67, 0.15);\n",
              "    fill: var(--button-hover-fill-color);\n",
              "  }\n",
              "\n",
              "  .colab-df-quickchart-complete:disabled,\n",
              "  .colab-df-quickchart-complete:disabled:hover {\n",
              "    background-color: var(--disabled-bg-color);\n",
              "    fill: var(--disabled-fill-color);\n",
              "    box-shadow: none;\n",
              "  }\n",
              "\n",
              "  .colab-df-spinner {\n",
              "    border: 2px solid var(--fill-color);\n",
              "    border-color: transparent;\n",
              "    border-bottom-color: var(--fill-color);\n",
              "    animation:\n",
              "      spin 1s steps(1) infinite;\n",
              "  }\n",
              "\n",
              "  @keyframes spin {\n",
              "    0% {\n",
              "      border-color: transparent;\n",
              "      border-bottom-color: var(--fill-color);\n",
              "      border-left-color: var(--fill-color);\n",
              "    }\n",
              "    20% {\n",
              "      border-color: transparent;\n",
              "      border-left-color: var(--fill-color);\n",
              "      border-top-color: var(--fill-color);\n",
              "    }\n",
              "    30% {\n",
              "      border-color: transparent;\n",
              "      border-left-color: var(--fill-color);\n",
              "      border-top-color: var(--fill-color);\n",
              "      border-right-color: var(--fill-color);\n",
              "    }\n",
              "    40% {\n",
              "      border-color: transparent;\n",
              "      border-right-color: var(--fill-color);\n",
              "      border-top-color: var(--fill-color);\n",
              "    }\n",
              "    60% {\n",
              "      border-color: transparent;\n",
              "      border-right-color: var(--fill-color);\n",
              "    }\n",
              "    80% {\n",
              "      border-color: transparent;\n",
              "      border-right-color: var(--fill-color);\n",
              "      border-bottom-color: var(--fill-color);\n",
              "    }\n",
              "    90% {\n",
              "      border-color: transparent;\n",
              "      border-bottom-color: var(--fill-color);\n",
              "    }\n",
              "  }\n",
              "</style>\n",
              "\n",
              "  <script>\n",
              "    async function quickchart(key) {\n",
              "      const quickchartButtonEl =\n",
              "        document.querySelector('#' + key + ' button');\n",
              "      quickchartButtonEl.disabled = true;  // To prevent multiple clicks.\n",
              "      quickchartButtonEl.classList.add('colab-df-spinner');\n",
              "      try {\n",
              "        const charts = await google.colab.kernel.invokeFunction(\n",
              "            'suggestCharts', [key], {});\n",
              "      } catch (error) {\n",
              "        console.error('Error during call to suggestCharts:', error);\n",
              "      }\n",
              "      quickchartButtonEl.classList.remove('colab-df-spinner');\n",
              "      quickchartButtonEl.classList.add('colab-df-quickchart-complete');\n",
              "    }\n",
              "    (() => {\n",
              "      let quickchartButtonEl =\n",
              "        document.querySelector('#df-9f57cf8d-69d3-469c-843b-8f25a1288dca button');\n",
              "      quickchartButtonEl.style.display =\n",
              "        google.colab.kernel.accessAllowed ? 'block' : 'none';\n",
              "    })();\n",
              "  </script>\n",
              "</div>\n",
              "\n",
              "  <div id=\"id_3078ace5-2819-4277-b564-cf6d284dab5a\">\n",
              "    <style>\n",
              "      .colab-df-generate {\n",
              "        background-color: #E8F0FE;\n",
              "        border: none;\n",
              "        border-radius: 50%;\n",
              "        cursor: pointer;\n",
              "        display: none;\n",
              "        fill: #1967D2;\n",
              "        height: 32px;\n",
              "        padding: 0 0 0 0;\n",
              "        width: 32px;\n",
              "      }\n",
              "\n",
              "      .colab-df-generate:hover {\n",
              "        background-color: #E2EBFA;\n",
              "        box-shadow: 0px 1px 2px rgba(60, 64, 67, 0.3), 0px 1px 3px 1px rgba(60, 64, 67, 0.15);\n",
              "        fill: #174EA6;\n",
              "      }\n",
              "\n",
              "      [theme=dark] .colab-df-generate {\n",
              "        background-color: #3B4455;\n",
              "        fill: #D2E3FC;\n",
              "      }\n",
              "\n",
              "      [theme=dark] .colab-df-generate:hover {\n",
              "        background-color: #434B5C;\n",
              "        box-shadow: 0px 1px 3px 1px rgba(0, 0, 0, 0.15);\n",
              "        filter: drop-shadow(0px 1px 2px rgba(0, 0, 0, 0.3));\n",
              "        fill: #FFFFFF;\n",
              "      }\n",
              "    </style>\n",
              "    <button class=\"colab-df-generate\" onclick=\"generateWithVariable('X_new_df')\"\n",
              "            title=\"Generate code using this dataframe.\"\n",
              "            style=\"display:none;\">\n",
              "\n",
              "  <svg xmlns=\"http://www.w3.org/2000/svg\" height=\"24px\"viewBox=\"0 0 24 24\"\n",
              "       width=\"24px\">\n",
              "    <path d=\"M7,19H8.4L18.45,9,17,7.55,7,17.6ZM5,21V16.75L18.45,3.32a2,2,0,0,1,2.83,0l1.4,1.43a1.91,1.91,0,0,1,.58,1.4,1.91,1.91,0,0,1-.58,1.4L9.25,21ZM18.45,9,17,7.55Zm-12,3A5.31,5.31,0,0,0,4.9,8.1,5.31,5.31,0,0,0,1,6.5,5.31,5.31,0,0,0,4.9,4.9,5.31,5.31,0,0,0,6.5,1,5.31,5.31,0,0,0,8.1,4.9,5.31,5.31,0,0,0,12,6.5,5.46,5.46,0,0,0,6.5,12Z\"/>\n",
              "  </svg>\n",
              "    </button>\n",
              "    <script>\n",
              "      (() => {\n",
              "      const buttonEl =\n",
              "        document.querySelector('#id_3078ace5-2819-4277-b564-cf6d284dab5a button.colab-df-generate');\n",
              "      buttonEl.style.display =\n",
              "        google.colab.kernel.accessAllowed ? 'block' : 'none';\n",
              "\n",
              "      buttonEl.onclick = () => {\n",
              "        google.colab.notebook.generateWithVariable('X_new_df');\n",
              "      }\n",
              "      })();\n",
              "    </script>\n",
              "  </div>\n",
              "\n",
              "    </div>\n",
              "  </div>\n"
            ],
            "application/vnd.google.colaboratory.intrinsic+json": {
              "type": "dataframe",
              "variable_name": "X_new_df",
              "summary": "{\n  \"name\": \"X_new_df\",\n  \"rows\": 3,\n  \"fields\": [\n    {\n      \"column\": \"iteration\",\n      \"properties\": {\n        \"dtype\": \"number\",\n        \"std\": 1,\n        \"min\": 0,\n        \"max\": 2,\n        \"num_unique_values\": 3,\n        \"samples\": [\n          0,\n          1,\n          2\n        ],\n        \"semantic_type\": \"\",\n        \"description\": \"\"\n      }\n    },\n    {\n      \"column\": \"lat\",\n      \"properties\": {\n        \"dtype\": \"float32\",\n        \"num_unique_values\": 3,\n        \"samples\": [\n          38.5,\n          38.0,\n          37.5\n        ],\n        \"semantic_type\": \"\",\n        \"description\": \"\"\n      }\n    },\n    {\n      \"column\": \"lon\",\n      \"properties\": {\n        \"dtype\": \"float32\",\n        \"num_unique_values\": 3,\n        \"samples\": [\n          -105.75,\n          -106.0,\n          -106.25\n        ],\n        \"semantic_type\": \"\",\n        \"description\": \"\"\n      }\n    }\n  ]\n}"
            }
          },
          "metadata": {},
          "execution_count": 55
        }
      ]
    },
    {
      "cell_type": "code",
      "source": [
        "fig = deepsensor.plot.placements(placement_tasks[0], X_new_df, data_processor,\n",
        "                                 crs=ccrs.PlateCarree())"
      ],
      "metadata": {
        "colab": {
          "base_uri": "https://localhost:8080/",
          "height": 297
        },
        "id": "lQ0zhx8vowts",
        "outputId": "f9fc808d-ce24-4222-a327-8208f25f1db1"
      },
      "execution_count": 56,
      "outputs": [
        {
          "output_type": "stream",
          "name": "stderr",
          "text": [
            "WARNING:py.warnings:/usr/local/lib/python3.10/dist-packages/ipykernel/ipkernel.py:283: DeprecationWarning: `should_run_async` will not call `transform_cell` automatically in the future. Please pass the result to `transformed_cell` argument and any exception that happen during thetransform in `preprocessing_exc_tuple` in IPython 7.17 and above.\n",
            "  and should_run_async(code)\n",
            "\n",
            "WARNING:matplotlib.legend:No artists with labels found to put in legend.  Note that artists whose label start with an underscore are ignored when legend() is called with no argument.\n",
            "WARNING:py.warnings:/usr/local/lib/python3.10/dist-packages/cartopy/io/__init__.py:241: DownloadWarning: Downloading: https://naturalearth.s3.amazonaws.com/110m_physical/ne_110m_coastline.zip\n",
            "  warnings.warn(f'Downloading: {url}', DownloadWarning)\n",
            "\n"
          ]
        },
        {
          "output_type": "display_data",
          "data": {
            "text/plain": [
              "<Figure size 300x300 with 1 Axes>"
            ],
            "image/png": "[encoded data removed]"
          },
          "metadata": {}
        }
      ]
    },
    {
      "cell_type": "code",
      "source": [
        "fig = deepsensor.plot.acquisition_fn(\n",
        "    placement_tasks[0], acquisition_fn_ds, X_new_df,\n",
        "    data_processor, crs=ccrs.PlateCarree(), add_colorbar=False,\n",
        "    cmap=\"Greys\")"
      ],
      "metadata": {
        "colab": {
          "base_uri": "https://localhost:8080/",
          "height": 210
        },
        "id": "tQCWzla_oztG",
        "outputId": "25286c72-97a6-47a5-fc95-f20bbacde02b"
      },
      "execution_count": 57,
      "outputs": [
        {
          "output_type": "stream",
          "name": "stderr",
          "text": [
            "WARNING:py.warnings:/usr/local/lib/python3.10/dist-packages/ipykernel/ipkernel.py:283: DeprecationWarning: `should_run_async` will not call `transform_cell` automatically in the future. Please pass the result to `transformed_cell` argument and any exception that happen during thetransform in `preprocessing_exc_tuple` in IPython 7.17 and above.\n",
            "  and should_run_async(code)\n",
            "\n"
          ]
        },
        {
          "output_type": "stream",
          "name": "stdout",
          "text": [
            "Averaging acquisition function over dims for plotting: ['time']\n"
          ]
        },
        {
          "output_type": "stream",
          "name": "stderr",
          "text": [
            "WARNING:matplotlib.legend:No artists with labels found to put in legend.  Note that artists whose label start with an underscore are ignored when legend() is called with no argument.\n"
          ]
        },
        {
          "output_type": "display_data",
          "data": {
            "text/plain": [
              "<Figure size 900x300 with 3 Axes>"
            ],
            "image/png": "[encoded data removed]"
          },
          "metadata": {}
        }
      ]
    }
  ]
}